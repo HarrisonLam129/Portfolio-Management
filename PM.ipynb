{
  "nbformat": 4,
  "nbformat_minor": 0,
  "metadata": {
    "colab": {
      "provenance": []
    },
    "kernelspec": {
      "name": "python3",
      "display_name": "Python 3"
    },
    "language_info": {
      "name": "python"
    }
  },
  "cells": [
    {
      "cell_type": "code",
      "source": [
        "import pandas as pd\n",
        "import numpy as np\n",
        "from matplotlib import pyplot as plt\n",
        "from scipy.optimize import minimize, LinearConstraint, fsolve\n",
        "from scipy.stats import norm"
      ],
      "metadata": {
        "id": "e3inFOJrz8PZ"
      },
      "execution_count": null,
      "outputs": []
    },
    {
      "cell_type": "code",
      "source": [
        "URL = 'https://github.com/HarrisonLam129/PM/raw/refs/heads/main/df'\n",
        "dfs = []\n",
        "for i in range(1, 6):\n",
        "    dfs.append(pd.read_pickle(URL+str(i)))\n",
        "df1, df2, df3, df4, df5 = dfs"
      ],
      "metadata": {
        "id": "UVuTQp8M0DwX"
      },
      "execution_count": null,
      "outputs": []
    },
    {
      "cell_type": "markdown",
      "source": [
        "### Model 1 (Equal weighted)"
      ],
      "metadata": {
        "id": "_bkvTJfv2mOp"
      }
    },
    {
      "cell_type": "code",
      "source": [
        "sharpes = pd.DataFrame(dict(zip([f'df{i}' for i in range(1, 6)], [[] for _ in range(5)])))\n",
        "sharpes_p = pd.DataFrame(dict(zip([f'df{i}' for i in range(1, 6)], [[] for _ in range(5)])))\n",
        "CEQ = pd.DataFrame(dict(zip([f'df{i}' for i in range(1, 6)], [[] for _ in range(5)])))\n",
        "CEQ_p = pd.DataFrame(dict(zip([f'df{i}' for i in range(1, 6)], [[] for _ in range(5)])))\n",
        "turnover = pd.DataFrame(dict(zip([f'df{i}' for i in range(1, 6)], [[] for _ in range(5)])))\n",
        "\n",
        "gamma = 1\n",
        "\n",
        "returns1 = df1.mean(axis=1)\n",
        "returns2 = pd.concat([df.mean(axis=1) for df in dfs[1:]], axis=1)\n",
        "\n",
        "ew_mean = np.hstack((returns1[120:].mean(), returns2[120:].mean()))\n",
        "ew_std = np.hstack((returns1[120:].std(ddof=1), returns2[120:].std(ddof=1)))\n",
        "\n",
        "sharpes.loc['1/N In'] = np.hstack(([returns1.mean()/returns1.std(ddof=1)], (returns2.mean()/returns2.std(ddof=1)).values))\n",
        "sharpes_p.loc['1/N In'] = np.array([np.NaN]*5)\n",
        "CEQ.loc['1/N In'] = np.hstack(([returns1.mean()-(gamma/2)*returns1.std(ddof=1)**2], (returns2.mean()-(gamma/2)*returns2.std(ddof=1)**2).values))\n",
        "CEQ_p.loc['1/N In'] = np.array([np.NaN]*5)\n",
        "\n",
        "M = 120\n",
        "\n",
        "turnovers = []\n",
        "for df in dfs:\n",
        "    weights = (1/len(df.columns)) * np.ones((len(df)-M, len(df.columns)))\n",
        "    weights_before = weights*(df.iloc[M:]+1)\n",
        "    weights_before = weights*(df.iloc[M:]+1)\n",
        "    weights_before = weights_before.div(np.abs(weights_before.sum(axis=1)), axis=0)\n",
        "    turnovers.append((weights_before-weights).abs().sum().sum()/(len(df)-M))\n",
        "turnover.loc['1/N In'] = np.array(turnovers)"
      ],
      "metadata": {
        "id": "yfOlRCaC2z1U"
      },
      "execution_count": null,
      "outputs": []
    },
    {
      "cell_type": "markdown",
      "source": [
        "### Model 2 (mean-variance)\n"
      ],
      "metadata": {
        "id": "lXQO1SZr4QQ2"
      }
    },
    {
      "cell_type": "code",
      "source": [
        "sr = []\n",
        "ceq = []\n",
        "for df in dfs:\n",
        "    mu = df.mean(axis = 0)\n",
        "    cov = df.cov()\n",
        "    x = np.linalg.inv(cov)@mu\n",
        "    w = x / np.abs(x.sum())\n",
        "    sr.append((mu @ w) / np.sqrt(w.T @ cov @ w))\n",
        "    ceq.append((mu @ w) - (gamma/2)*(w.T @ cov @ w))\n",
        "\n",
        "sharpes.loc['mv In'] = sr\n",
        "CEQ.loc['mv In'] = ceq\n",
        "\n",
        "sr, sr_p = [], []\n",
        "mus, sigmas, sigma_i_ns, len_r = [], [], [], []\n",
        "ceq, CEQ_z = [], []\n",
        "turnovers = []\n",
        "m1, m2 = float('inf'), -float('inf')\n",
        "for j, df in enumerate(dfs):\n",
        "    weights = []\n",
        "    r = []\n",
        "    for i in range(M, len(df)):\n",
        "        mu_t = df.iloc[i-M:i].mean(axis = 0)\n",
        "        cov_t = df.iloc[i-M:i].cov()\n",
        "        x_t = np.linalg.inv(cov_t)@mu_t\n",
        "        w_t = x_t / np.abs(np.sum(x_t))\n",
        "        weights.append(w_t)\n",
        "        r_t = w_t.T @ df.iloc[i]\n",
        "        r.append(r_t)\n",
        "    mus.append(np.mean(r))\n",
        "    sigmas.append(np.std(r, ddof=1))\n",
        "    if j == 0:\n",
        "        sigma_i_n = np.cov(r, returns1[120:])[0, 1]\n",
        "    else:\n",
        "        sigma_i_n = np.cov(r, returns2.iloc[120:, j-1])[0, 1]\n",
        "    sigma_i_ns.append(sigma_i_n)\n",
        "    len_r.append(len(r))\n",
        "    sr.append(np.mean(r)/np.std(r, ddof=1))\n",
        "    ceq.append(np.mean(r) - (gamma/2)*np.std(r, ddof=1)**2)\n",
        "\n",
        "    CEQ_diff = np.mean(r) - (gamma/2)*np.std(r, ddof=1)**2 - CEQ.loc['1/N In', f'df{j+1}']\n",
        "    grad = np.array([1, -1, -gamma/2, gamma/2])\n",
        "    theta = np.array([[np.std(r, ddof=1)**2, sigma_i_n, 0, 0], [sigma_i_n, ew_std[j]**2, 0, 0], [0, 0, 2*np.std(r, ddof=1)**4, 2*sigma_i_n**2], [0, 0, 2*sigma_i_n**2, 2*ew_std[j]**4]])\n",
        "    CEQ_z.append(np.sqrt(len(df))*CEQ_diff/np.sqrt(grad.T @ theta @ grad))\n",
        "\n",
        "    weights = np.array(weights)\n",
        "    weights_before = weights*(df.iloc[M:]+1)\n",
        "    weights_before = weights*(df.iloc[M:]+1)\n",
        "    weights_before = weights_before.div(np.abs(weights_before.sum(axis=1)), axis=0)\n",
        "    turnovers.append((weights_before-weights).abs().sum().sum()/(len(r)))\n",
        "    m1 = min(m1, weights.min())\n",
        "    m2 = max(m2, weights.max())\n",
        "\n",
        "print(m1, m2)\n",
        "sharpes.loc['mv Out'] = sr\n",
        "mus, sigmas, sigma_i_ns, len_r = np.array(mus), np.array(sigmas), np.array(sigma_i_ns), np.array(len_r)\n",
        "nu = (1/len_r)*(2*sigmas**2*ew_std**2 - 2*sigmas*ew_std*sigma_i_ns + 0.5*mus**2*ew_std**2 + \\\n",
        "                    0.5*ew_mean**2*sigmas**2 - mus*ew_mean*sigma_i_ns**2/(ew_std*sigmas))\n",
        "z_scores = (ew_std*mus-sigmas*ew_mean)/np.sqrt(nu)\n",
        "sharpes_p.loc['mv Out'] = 1-norm.cdf(z_scores)\n",
        "\n",
        "CEQ.loc['mv Out'] = ceq\n",
        "CEQ_p.loc['mv Out'] = 1-norm.cdf(CEQ_z)\n",
        "\n",
        "turnover.loc['mv Out'] = np.array(turnovers)"
      ],
      "metadata": {
        "id": "_PzbWBGd5Fut",
        "colab": {
          "base_uri": "https://localhost:8080/"
        },
        "outputId": "c7ff2e28-3a3f-4089-e8b5-084b19bb08ab"
      },
      "execution_count": null,
      "outputs": [
        {
          "output_type": "stream",
          "name": "stdout",
          "text": [
            "-13886.76007997952 6678.915013684866\n"
          ]
        }
      ]
    },
    {
      "cell_type": "markdown",
      "source": [
        "### Model 3 (min-variance)"
      ],
      "metadata": {
        "id": "7qtDJfNtemqy"
      }
    },
    {
      "cell_type": "code",
      "source": [
        "\"\"\"\n",
        "sr = []\n",
        "ceq = []\n",
        "for df in dfs:\n",
        "    cov = df.cov()\n",
        "    x = np.linalg.inv(cov).sum(axis=1)\n",
        "    w = x / x.sum()\n",
        "    mu = df.mean(axis = 0)\n",
        "    sr.append(mu @ w / np.sqrt(w.T @ cov @ w))\n",
        "    ceq.append((mu @ w) - (gamma/2)*(w.T @ cov @ w))\n",
        "sharpes.loc['min In'] = sr\n",
        "CEQ.loc['min In'] = ceq\n",
        "\"\"\"\n",
        "\n",
        "sr, sr_p = [], []\n",
        "mus, sigmas, sigma_i_ns = [], [], []\n",
        "ceq, CEQ_z = [], []\n",
        "turnovers = []\n",
        "m1, m2 = float('inf'), -float('inf')\n",
        "for j, df in enumerate(dfs):\n",
        "    weights = []\n",
        "    r = []\n",
        "    for i in range(M, len(df)):\n",
        "        cov_t = df.iloc[i-M: i].cov()\n",
        "        x_t = np.linalg.inv(cov_t).sum(axis=1)\n",
        "        w_t = x_t / x_t.sum()\n",
        "        weights.append(w_t)\n",
        "        r_t = w_t.T @ df.iloc[i]\n",
        "        r.append(r_t)\n",
        "    mus.append(np.mean(r))\n",
        "    sigmas.append(np.std(r, ddof=1))\n",
        "    if j == 0:\n",
        "        sigma_i_n = np.cov(r, returns1[120:])[0, 1]\n",
        "    else:\n",
        "        sigma_i_n = np.cov(r, returns2.iloc[120:, j-1])[0, 1]\n",
        "    sigma_i_ns.append(sigma_i_n)\n",
        "    sr.append(np.mean(r)/np.std(r, ddof=1))\n",
        "    ceq.append(np.mean(r)-(gamma/2)*np.std(r, ddof=1)**2)\n",
        "\n",
        "    CEQ_diff = np.mean(r) - (gamma/2)*np.std(r, ddof=1)**2 - CEQ.loc['1/N In', f'df{j+1}']\n",
        "    grad = np.array([1, -1, -gamma/2, gamma/2])\n",
        "    theta = np.array([[np.std(r, ddof=1)**2, sigma_i_n, 0, 0], [sigma_i_n, ew_std[j]**2, 0, 0], [0, 0, 2*np.std(r, ddof=1)**4, 2*sigma_i_n**2], [0, 0, 2*sigma_i_n**2, 2*ew_std[j]**4]])\n",
        "    CEQ_z.append(np.sqrt(len(df))*CEQ_diff/np.sqrt(grad.T @ theta @ grad))\n",
        "\n",
        "    weights = np.array(weights)\n",
        "    weights_before = weights*(df.iloc[M:]+1)\n",
        "    weights_before = weights*(df.iloc[M:]+1)\n",
        "    weights_before = weights_before.div(np.abs(weights_before.sum(axis=1)), axis=0)\n",
        "    turnovers.append((weights_before-weights).abs().sum().sum()/(len(r)))\n",
        "    m1 = min(m1, weights.min())\n",
        "    m2 = max(m2, weights.max())\n",
        "\n",
        "print(m1, m2)\n",
        "sharpes.loc['min Out'] = sr\n",
        "mus, sigmas, sigma_i_ns = np.array(mus), np.array(sigmas), np.array(sigma_i_ns)\n",
        "nu = (1/len_r)*(2*sigmas**2*ew_std**2 - 2*sigmas*ew_std*sigma_i_ns + 0.5*mus**2*ew_std**2 + \\\n",
        "                    0.5*ew_mean**2*sigmas**2 - mus*ew_mean*sigma_i_ns**2/(ew_std*sigmas))\n",
        "z_scores = (ew_std*mus-sigmas*ew_mean)/np.sqrt(nu)\n",
        "sharpes_p.loc['min Out'] = 1-norm.cdf(z_scores)\n",
        "\n",
        "CEQ.loc['min Out'] = ceq\n",
        "CEQ_p.loc['min Out'] = 1-norm.cdf(CEQ_z)\n",
        "\n",
        "turnover.loc['min Out'] = np.array(turnovers)"
      ],
      "metadata": {
        "id": "4QUnZEgwemKA",
        "colab": {
          "base_uri": "https://localhost:8080/"
        },
        "outputId": "073d286d-857a-4fd3-ecd7-fe29736a2e5a"
      },
      "execution_count": null,
      "outputs": [
        {
          "output_type": "stream",
          "name": "stdout",
          "text": [
            "-5.650920374903726 2.278745188405432\n"
          ]
        }
      ]
    },
    {
      "cell_type": "markdown",
      "source": [
        "### Bayes Stein"
      ],
      "metadata": {
        "id": "L4nci9iQkkSZ"
      }
    },
    {
      "cell_type": "code",
      "source": [
        "sr, sr_p = [], []\n",
        "mus, sigmas, sigma_i_ns = [], [], []\n",
        "ceq, CEQ_z = [], []\n",
        "turnovers = []\n",
        "\n",
        "for j, df in enumerate(dfs):\n",
        "    weights = []\n",
        "    N = df.shape[1]\n",
        "    r = []\n",
        "    for t in range(M, len(df)):\n",
        "        window = df.iloc[t-M:t]\n",
        "\n",
        "        cov_t = window.cov(ddof=N+2)\n",
        "\n",
        "        inv_cov_t = np.linalg.inv(cov_t)\n",
        "\n",
        "        ones = np.ones(N)\n",
        "        w_min = inv_cov_t @ ones / (ones.T @ inv_cov_t @ ones)\n",
        "\n",
        "        mu_t = window.mean(axis=0)\n",
        "\n",
        "        # Mean return of min-var\n",
        "        mu_min_t = w_min.T @ mu_t\n",
        "\n",
        "        diff = mu_t - mu_min_t\n",
        "        phi_t = (N + 2) / ((N + 2) + M * diff.T @ inv_cov_t @ diff) # Shrinkage factor\n",
        "\n",
        "        # Bayes-Stein mean\n",
        "        mu_bs_t_vector = (1 - phi_t) * mu_t + phi_t * mu_min_t  # Vector\n",
        "\n",
        "        w_t = (inv_cov_t @ mu_bs_t_vector)/(ones.T @ inv_cov_t @ mu_bs_t_vector)\n",
        "        weights.append(w_t)\n",
        "        r_t = w_t @ df.iloc[t]\n",
        "        r.append(r_t)\n",
        "    mus.append(np.mean(r))\n",
        "    sigmas.append(np.std(r, ddof=1))\n",
        "    if j == 0:\n",
        "        sigma_i_n = np.cov(r, returns1[120:])[0, 1]\n",
        "    else:\n",
        "        sigma_i_n = np.cov(r, returns2.iloc[120:, j-1])[0, 1]\n",
        "    sigma_i_ns.append(sigma_i_n)\n",
        "    sr.append(np.mean(r)/np.std(r, ddof=1))\n",
        "    ceq.append(np.mean(r)-(gamma/2)*np.std(r, ddof=1)**2)\n",
        "\n",
        "    CEQ_diff = np.mean(r) - (gamma/2)*np.std(r, ddof=1)**2 - CEQ.loc['1/N In', f'df{j+1}']\n",
        "    grad = np.array([1, -1, -gamma/2, gamma/2])\n",
        "    theta = np.array([[np.std(r, ddof=1)**2, sigma_i_n, 0, 0], [sigma_i_n, ew_std[j]**2, 0, 0], [0, 0, 2*np.std(r, ddof=1)**4, 2*sigma_i_n**2], [0, 0, 2*sigma_i_n**2, 2*ew_std[j]**4]])\n",
        "    CEQ_z.append(np.sqrt(len(df))*CEQ_diff/np.sqrt(grad.T @ theta @ grad))\n",
        "\n",
        "    weights = np.array(weights)\n",
        "    weights_before = weights*(df.iloc[M:]+1)\n",
        "    weights_before = weights*(df.iloc[M:]+1)\n",
        "    weights_before = weights_before.div(np.abs(weights_before.sum(axis=1)), axis=0)\n",
        "    turnovers.append((weights_before-weights).abs().sum().sum()/(len(r)))\n",
        "\n",
        "sharpes.loc['bs'] = sr\n",
        "mus, sigmas, sigma_i_ns = np.array(mus), np.array(sigmas), np.array(sigma_i_ns)\n",
        "nu = (1/len_r)*(2*sigmas**2*ew_std**2 - 2*sigmas*ew_std*sigma_i_ns + 0.5*mus**2*ew_std**2 + \\\n",
        "                    0.5*ew_mean**2*sigmas**2 - mus*ew_mean*sigma_i_ns**2/(ew_std*sigmas))\n",
        "z_scores = (ew_std*mus-sigmas*ew_mean)/np.sqrt(nu)\n",
        "sharpes_p.loc['bs'] = 1-norm.cdf(z_scores)\n",
        "\n",
        "CEQ.loc['bs'] = ceq\n",
        "CEQ_p.loc['bs'] = 1-norm.cdf(CEQ_z)\n",
        "\n",
        "turnover.loc['bs'] = np.array(turnovers)"
      ],
      "metadata": {
        "id": "y4G-NBH3kh-x"
      },
      "execution_count": null,
      "outputs": []
    },
    {
      "cell_type": "markdown",
      "source": [
        "### Value-Weighted (Market)"
      ],
      "metadata": {
        "id": "2amGkSDZWV7j"
      }
    },
    {
      "cell_type": "code",
      "source": [
        "sr, sr_p = [], []\n",
        "mus, sigmas, sigma_i_ns = [], [], []\n",
        "ceq, CEQ_z = [], []\n",
        "\n",
        "for j, df in enumerate(dfs):\n",
        "    r = df['MKT'].values\n",
        "    mus.append(np.mean(r))\n",
        "    sigmas.append(np.std(r, ddof=1))\n",
        "    if j == 0:\n",
        "        sigma_i_n = np.cov(r, returns1)[0, 1]\n",
        "    else:\n",
        "        sigma_i_n = np.cov(r, returns2.iloc[:, j-1])[0, 1]\n",
        "    sigma_i_ns.append(sigma_i_n)\n",
        "    sr.append(np.mean(r)/np.std(r, ddof=1))\n",
        "    ceq.append(np.mean(r)-(gamma/2)*np.std(r, ddof=1)**2)\n",
        "\n",
        "    CEQ_diff = np.mean(r) - (gamma/2)*np.std(r, ddof=1)**2 - CEQ.loc['1/N In', f'df{j+1}']\n",
        "    grad = np.array([1, -1, -gamma/2, gamma/2])\n",
        "    theta = np.array([[np.std(r, ddof=1)**2, sigma_i_n, 0, 0], [sigma_i_n, ew_std[j]**2, 0, 0], [0, 0, 2*np.std(r, ddof=1)**4, 2*sigma_i_n**2], [0, 0, 2*sigma_i_n**2, 2*ew_std[j]**4]])\n",
        "    CEQ_z.append(np.sqrt(len(df))*CEQ_diff/np.sqrt(grad.T @ theta @ grad))\n",
        "\n",
        "sharpes.loc['vw'] = sr\n",
        "mus, sigmas, sigma_i_ns = np.array(mus), np.array(sigmas), np.array(sigma_i_ns)\n",
        "nu = (1/len_r)*(2*sigmas**2*ew_std**2 - 2*sigmas*ew_std*sigma_i_ns + 0.5*mus**2*ew_std**2 + \\\n",
        "                    0.5*ew_mean**2*sigmas**2 - mus*ew_mean*sigma_i_ns**2/(ew_std*sigmas))\n",
        "z_scores = (ew_std*mus-sigmas*ew_mean)/np.sqrt(nu)\n",
        "sharpes_p.loc['vw'] = 1-norm.cdf(z_scores)\n",
        "\n",
        "CEQ.loc['vw'] = ceq\n",
        "CEQ_p.loc['vw'] = 1-norm.cdf(CEQ_z)\n",
        "\n",
        "turnover.loc['vw'] = np.array([0, 0, 0, 0, 0])"
      ],
      "metadata": {
        "id": "5pWibuR5Wr1N"
      },
      "execution_count": null,
      "outputs": []
    },
    {
      "cell_type": "markdown",
      "source": [
        "### No Shortsale MV"
      ],
      "metadata": {
        "id": "CrjKXegZucJR"
      }
    },
    {
      "cell_type": "code",
      "source": [
        "\"\"\"\n",
        "sr, ceq = [], []\n",
        "\n",
        "for df in dfs:\n",
        "    x_0 = np.array([1/(df.shape[1])]*df.shape[1])\n",
        "    mu, cov = df.mean(axis=0), df.cov()\n",
        "    range_constraint = [[0, np.inf] for _ in range(df.shape[1])]\n",
        "    mv_c = minimize(lambda x: -(x @ mu - (gamma/2)* x.T @ cov @ x), x_0, bounds=range_constraint)\n",
        "    w_t = mv_c.x/np.sum(mv_c.x)\n",
        "    sr.append(mu @ w_t / np.sqrt(w_t.T @ cov @ w_t))\n",
        "    ceq.append((mu @ w_t) - (gamma/2)*(w_t.T @ cov @ w_t))\n",
        "\n",
        "sharpes.loc['mv-c In'] = sr\n",
        "CEQ.loc['mv-c In'] = ceq\n",
        "\"\"\"\n",
        "\n",
        "sr, sr_p = [], []\n",
        "mus, sigmas, sigma_i_ns = [], [], []\n",
        "ceq, CEQ_z = [], []\n",
        "turnovers = []\n",
        "for j, df in enumerate(dfs):\n",
        "    weights = []\n",
        "    range_constraint = [[0, np.inf] for _ in range(df.shape[1])]\n",
        "    x_0 = np.array([1/(df.shape[1])]*df.shape[1])\n",
        "    r = []\n",
        "    for i in range(M, len(df)):\n",
        "        mu = df.iloc[i-M:i].mean(axis=0)\n",
        "        cov = df.iloc[i-M:i].cov()\n",
        "        mv_c = minimize(lambda x: -(x.T @ mu - (gamma/2)* x.T @ cov @ x), x_0, bounds=range_constraint)\n",
        "        w_t = mv_c.x/np.sum(mv_c.x)\n",
        "        weights.append(w_t)\n",
        "        r_t = w_t.T @ df.iloc[i]\n",
        "        r.append(r_t)\n",
        "    mus.append(np.mean(r))\n",
        "    sigmas.append(np.std(r, ddof=1))\n",
        "    if j == 0:\n",
        "        sigma_i_n = np.cov(r, returns1[120:])[0, 1]\n",
        "    else:\n",
        "        sigma_i_n = np.cov(r, returns2.iloc[120:, j-1])[0, 1]\n",
        "    sigma_i_ns.append(sigma_i_n)\n",
        "    sr.append(np.mean(r)/np.std(r, ddof=1))\n",
        "    ceq.append(np.mean(r) - (gamma/2)*np.std(r, ddof=1)**2)\n",
        "\n",
        "    CEQ_diff = np.mean(r) - (gamma/2)*np.std(r, ddof=1)**2 - CEQ.loc['1/N In', f'df{j+1}']\n",
        "    grad = np.array([1, -1, -gamma/2, gamma/2])\n",
        "    theta = np.array([[np.std(r, ddof=1)**2, sigma_i_n, 0, 0], [sigma_i_n, ew_std[j]**2, 0, 0], [0, 0, 2*np.std(r, ddof=1)**4, 2*sigma_i_n**2], [0, 0, 2*sigma_i_n**2, 2*ew_std[j]**4]])\n",
        "    CEQ_z.append(np.sqrt(len(df))*CEQ_diff/np.sqrt(grad.T @ theta @ grad))\n",
        "\n",
        "    weights = np.array(weights)\n",
        "    weights_before = weights*(df.iloc[M:]+1)\n",
        "    weights_before = weights*(df.iloc[M:]+1)\n",
        "    weights_before = weights_before.div(np.abs(weights_before.sum(axis=1)), axis=0)\n",
        "    turnovers.append((weights_before-weights).abs().sum().sum()/(len(r)))\n",
        "\n",
        "sharpes.loc['mv-c Out'] = sr\n",
        "mus, sigmas, sigma_i_ns = np.array(mus), np.array(sigmas), np.array(sigma_i_ns)\n",
        "nu = (1/len_r)*(2*sigmas**2*ew_std**2 - 2*sigmas*ew_std*sigma_i_ns + 0.5*mus**2*ew_std**2 + \\\n",
        "                    0.5*ew_mean**2*sigmas**2 - mus*ew_mean*sigma_i_ns**2/(ew_std*sigmas))\n",
        "z_scores = (ew_std*mus-sigmas*ew_mean)/np.sqrt(nu)\n",
        "sharpes_p.loc['mv-c Out'] = 1-norm.cdf(z_scores)\n",
        "\n",
        "CEQ.loc['mv-c Out'] = ceq\n",
        "CEQ_p.loc['mv-c Out'] = 1-norm.cdf(CEQ_z)\n",
        "\n",
        "turnover.loc['mv-c Out'] = np.array(turnovers)"
      ],
      "metadata": {
        "id": "x5gpUcbLk0rN"
      },
      "execution_count": null,
      "outputs": []
    },
    {
      "cell_type": "markdown",
      "source": [
        "### No Shortsale Min Variance"
      ],
      "metadata": {
        "id": "K0IF6JwrdRtB"
      }
    },
    {
      "cell_type": "code",
      "source": [
        "\"\"\"\n",
        "sr, ceq = [], []\n",
        "\n",
        "for df in dfs:\n",
        "    x_0 = np.array([1/(df.shape[1])]*df.shape[1])\n",
        "    mu, cov = df.mean(axis=0), df.cov()\n",
        "    range_constraint = [[0, np.inf] for _ in range(df.shape[1])]\n",
        "    linear_constraint = LinearConstraint([[1 for _ in range(df.shape[1])]], 1, 1)\n",
        "    min_c = minimize(lambda x: x.T @ cov @ x, x_0, bounds=range_constraint, constraints=linear_constraint)\n",
        "    w_t = min_c.x/np.abs(np.sum(min_c.x))\n",
        "    sr.append(mu @ w_t / np.sqrt(w_t.T @ cov @ w_t))\n",
        "    ceq.append((mu @ w_t) - (gamma/2)*(w_t.T @ cov @ w_t))\n",
        "\n",
        "sharpes.loc['min-c In'] = sr\n",
        "CEQ.loc['min-c In'] = ceq\n",
        "\"\"\"\n",
        "\n",
        "sr, sr_p = [], []\n",
        "mus, sigmas, sigma_i_ns = [], [], []\n",
        "ceq, CEQ_z = [], []\n",
        "turnovers = []\n",
        "for j, df in enumerate(dfs):\n",
        "    weights = []\n",
        "    range_constraint = [[0, np.inf] for _ in range(df.shape[1])]\n",
        "    linear_constraint = LinearConstraint([[1 for _ in range(df.shape[1])]], 1, 1)\n",
        "    x_0 = np.array([1/(df.shape[1])]*df.shape[1])\n",
        "    r = []\n",
        "    for i in range(M, len(df)):\n",
        "        mu = df.iloc[i-M:i].mean(axis=0)\n",
        "        cov = df.iloc[i-M:i].cov()\n",
        "        min_c = minimize(lambda x: x.T @ cov @ x, x_0, bounds=range_constraint, constraints=linear_constraint)\n",
        "        w_t = min_c.x/np.abs(np.sum(min_c.x))\n",
        "        weights.append(w_t)\n",
        "        r_t = w_t.T @ df.iloc[i]\n",
        "        r.append(r_t)\n",
        "    mus.append(np.mean(r))\n",
        "    sigmas.append(np.std(r, ddof=1))\n",
        "    if j == 0:\n",
        "        sigma_i_n = np.cov(r, returns1[120:])[0, 1]\n",
        "    else:\n",
        "        sigma_i_n = np.cov(r, returns2.iloc[120:, j-1])[0, 1]\n",
        "    sigma_i_ns.append(sigma_i_n)\n",
        "    sr.append(np.mean(r)/np.std(r, ddof=1))\n",
        "    ceq.append(np.mean(r) - (gamma/2)*np.std(r)**2)\n",
        "\n",
        "    CEQ_diff = np.mean(r) - (gamma/2)*np.std(r, ddof=1)**2 - CEQ.loc['1/N In', f'df{j+1}']\n",
        "    grad = np.array([1, -1, -gamma/2, gamma/2])\n",
        "    theta = np.array([[np.std(r, ddof=1)**2, sigma_i_n, 0, 0], [sigma_i_n, ew_std[j]**2, 0, 0], [0, 0, 2*np.std(r, ddof=1)**4, 2*sigma_i_n**2], [0, 0, 2*sigma_i_n**2, 2*ew_std[j]**4]])\n",
        "    CEQ_z.append(np.sqrt(len(df))*CEQ_diff/np.sqrt(grad.T @ theta @ grad))\n",
        "\n",
        "    weights = np.array(weights)\n",
        "    weights_before = weights*(df.iloc[M:]+1)\n",
        "    weights_before = weights*(df.iloc[M:]+1)\n",
        "    weights_before = weights_before.div(np.abs(weights_before.sum(axis=1)), axis=0)\n",
        "    turnovers.append((weights_before-weights).abs().sum().sum()/(len(r)))\n",
        "\n",
        "sharpes.loc['min-c Out'] = sr\n",
        "mus, sigmas, sigma_i_ns = np.array(mus), np.array(sigmas), np.array(sigma_i_ns)\n",
        "nu = (1/len_r)*(2*sigmas**2*ew_std**2 - 2*sigmas*ew_std*sigma_i_ns + 0.5*mus**2*ew_std**2 + \\\n",
        "                    0.5*ew_mean**2*sigmas**2 - mus*ew_mean*sigma_i_ns**2/(ew_std*sigmas))\n",
        "z_scores = (ew_std*mus-sigmas*ew_mean)/np.sqrt(nu)\n",
        "sharpes_p.loc['min-c Out'] = 1-norm.cdf(z_scores)\n",
        "\n",
        "CEQ.loc['min-c Out'] = ceq\n",
        "CEQ_p.loc['min-c Out'] = 1-norm.cdf(CEQ_z)\n",
        "\n",
        "turnover.loc['min-c Out'] = np.array(turnovers)"
      ],
      "metadata": {
        "id": "2QIZ3wgC0y_a"
      },
      "execution_count": null,
      "outputs": []
    },
    {
      "cell_type": "markdown",
      "source": [
        "### g-min-c"
      ],
      "metadata": {
        "id": "JTxEGJgTOKFV"
      }
    },
    {
      "cell_type": "code",
      "source": [
        "\"\"\"\n",
        "sr, ceq = [], []\n",
        "\n",
        "for df in dfs:\n",
        "    x_0 = np.array([1/(df.shape[1])]*df.shape[1])\n",
        "    mu, cov = df.mean(axis=0), df.cov()\n",
        "    range_constraint = [[1/(2*df.shape[1]), np.inf] for _ in range(df.shape[1])]\n",
        "    linear_constraint = LinearConstraint([[1 for _ in range(df.shape[1])]], 1, 1)\n",
        "    min_c = minimize(lambda x: x.T @ cov @ x, x_0, bounds=range_constraint, constraints=linear_constraint)\n",
        "    w_t = min_c.x/np.abs(np.sum(min_c.x))\n",
        "    sr.append(mu @ w_t / np.sqrt(w_t.T @ cov @ w_t))\n",
        "    ceq.append((mu @ w_t) - (gamma/2)*(w_t.T @ cov @ w_t))\n",
        "\n",
        "sharpes.loc['g-min-c In'] = sr\n",
        "CEQ.loc['g-min-c In'] = ceq\n",
        "\"\"\"\n",
        "\n",
        "sr, sr_p = [], []\n",
        "mus, sigmas, sigma_i_ns = [], [], []\n",
        "ceq, CEQ_z = [], []\n",
        "turnovers = []\n",
        "for j, df in enumerate(dfs):\n",
        "    weights = []\n",
        "    range_constraint = [[1/(2*df.shape[1]), np.inf] for _ in range(df.shape[1])]\n",
        "    linear_constraint = LinearConstraint([[1 for _ in range(df.shape[1])]], 1, 1)\n",
        "    x_0 = np.array([1/(df.shape[1])]*df.shape[1])\n",
        "    r = []\n",
        "    for i in range(M, len(df)):\n",
        "        mu = df.iloc[i-M:i].mean(axis=0)\n",
        "        cov = df.iloc[i-M:i].cov()\n",
        "        min_c = minimize(lambda x: x.T @ cov @ x, x_0, bounds=range_constraint, constraints=linear_constraint)\n",
        "        w_t = min_c.x/np.abs(np.sum(min_c.x))\n",
        "        weights.append(w_t)\n",
        "        r_t = w_t.T @ df.iloc[i]\n",
        "        r.append(r_t)\n",
        "    mus.append(np.mean(r))\n",
        "    sigmas.append(np.std(r, ddof=1))\n",
        "    if j == 0:\n",
        "        sigma_i_n = np.cov(r, returns1[120:])[0, 1]\n",
        "    else:\n",
        "        sigma_i_n = np.cov(r, returns2.iloc[120:, j-1])[0, 1]\n",
        "    sigma_i_ns.append(sigma_i_n)\n",
        "    sr.append(np.mean(r)/np.std(r, ddof=1))\n",
        "    ceq.append(np.mean(r) - (gamma/2)*np.std(r, ddof=1)**2)\n",
        "\n",
        "    CEQ_diff = np.mean(r) - (gamma/2)*np.std(r, ddof=1)**2 - CEQ.loc['1/N In', f'df{j+1}']\n",
        "    grad = np.array([1, -1, -gamma/2, gamma/2])\n",
        "    theta = np.array([[np.std(r, ddof=1)**2, sigma_i_n, 0, 0], [sigma_i_n, ew_std[j]**2, 0, 0], [0, 0, 2*np.std(r, ddof=1)**4, 2*sigma_i_n**2], [0, 0, 2*sigma_i_n**2, 2*ew_std[j]**4]])\n",
        "    CEQ_z.append(np.sqrt(len(df))*CEQ_diff/np.sqrt(grad.T @ theta @ grad))\n",
        "\n",
        "    weights = np.array(weights)\n",
        "    weights_before = weights*(df.iloc[M:]+1)\n",
        "    weights_before = weights*(df.iloc[M:]+1)\n",
        "    weights_before = weights_before.div(np.abs(weights_before.sum(axis=1)), axis=0)\n",
        "    turnovers.append((weights_before-weights).abs().sum().sum()/(len(r)))\n",
        "\n",
        "sharpes.loc['g-min-c Out'] = sr\n",
        "mus, sigmas, sigma_i_ns = np.array(mus), np.array(sigmas), np.array(sigma_i_ns)\n",
        "nu = (1/len_r)*(2*sigmas**2*ew_std**2 - 2*sigmas*ew_std*sigma_i_ns + 0.5*mus**2*ew_std**2 + \\\n",
        "                    0.5*ew_mean**2*sigmas**2 - mus*ew_mean*sigma_i_ns**2/(ew_std*sigmas))\n",
        "z_scores = (ew_std*mus-sigmas*ew_mean)/np.sqrt(nu)\n",
        "sharpes_p.loc['g-min-c Out'] = 1-norm.cdf(z_scores)\n",
        "\n",
        "CEQ.loc['g-min-c Out'] = ceq\n",
        "CEQ_p.loc['g-min-c Out'] = 1-norm.cdf(CEQ_z)\n",
        "\n",
        "turnover.loc['g-min-c Out'] = np.array(turnovers)"
      ],
      "metadata": {
        "id": "amfqg4zmfZNZ",
        "colab": {
          "base_uri": "https://localhost:8080/"
        },
        "outputId": "6729614f-b004-4bea-9a85-a8bebfb01bd2"
      },
      "execution_count": null,
      "outputs": [
        {
          "output_type": "stream",
          "name": "stderr",
          "text": [
            "/usr/local/lib/python3.10/dist-packages/scipy/optimize/_slsqp_py.py:437: RuntimeWarning: Values in x were outside bounds during a minimize step, clipping to bounds\n",
            "  fx = wrapped_fun(x)\n",
            "/usr/local/lib/python3.10/dist-packages/scipy/optimize/_slsqp_py.py:441: RuntimeWarning: Values in x were outside bounds during a minimize step, clipping to bounds\n",
            "  g = append(wrapped_grad(x), 0.0)\n",
            "/usr/local/lib/python3.10/dist-packages/scipy/optimize/_slsqp_py.py:437: RuntimeWarning: Values in x were outside bounds during a minimize step, clipping to bounds\n",
            "  fx = wrapped_fun(x)\n",
            "/usr/local/lib/python3.10/dist-packages/scipy/optimize/_slsqp_py.py:441: RuntimeWarning: Values in x were outside bounds during a minimize step, clipping to bounds\n",
            "  g = append(wrapped_grad(x), 0.0)\n",
            "/usr/local/lib/python3.10/dist-packages/scipy/optimize/_slsqp_py.py:437: RuntimeWarning: Values in x were outside bounds during a minimize step, clipping to bounds\n",
            "  fx = wrapped_fun(x)\n",
            "/usr/local/lib/python3.10/dist-packages/scipy/optimize/_slsqp_py.py:441: RuntimeWarning: Values in x were outside bounds during a minimize step, clipping to bounds\n",
            "  g = append(wrapped_grad(x), 0.0)\n"
          ]
        }
      ]
    },
    {
      "cell_type": "markdown",
      "source": [
        "### Mixture ew-min"
      ],
      "metadata": {
        "id": "EIWjDxWOWxvh"
      }
    },
    {
      "cell_type": "code",
      "source": [
        "sr, sr_p = [], []\n",
        "mus, sigmas, sigma_i_ns = [], [], []\n",
        "ceq, CEQ_z = [], []\n",
        "turnovers = []\n",
        "\n",
        "def objective(x, N, cov, inv_cov):\n",
        "    w = x[0]*np.array([1/N]*N) + x[1]*np.array(inv_cov.sum(axis=1))\n",
        "    return -(w.T @ mu - (gamma/2)* w.T @ cov @ w)\n",
        "\n",
        "for j, df in enumerate(dfs):\n",
        "    weights = []\n",
        "    N = len(df.columns)\n",
        "    x_0 = np.array([1, 0])\n",
        "    r = []\n",
        "    for i in range(M, len(df)):\n",
        "        mu = df.iloc[i-M:i].mean(axis=0)\n",
        "        cov = df.iloc[i-M:i].cov()\n",
        "        inv_cov = np.linalg.inv(cov)\n",
        "        linear_constraint = LinearConstraint([[1, inv_cov.sum()]], 1, 1)\n",
        "        ew_min = minimize(objective, x_0, args=(N, cov, inv_cov), constraints=linear_constraint)\n",
        "        w_t = ew_min.x[0]*np.array([1/N]*N) + ew_min.x[1]*np.array(inv_cov.sum(axis=1))\n",
        "        weights.append(w_t)\n",
        "        r_t = w_t.T @ df.iloc[i]\n",
        "        r.append(r_t)\n",
        "    mus.append(np.mean(r))\n",
        "    sigmas.append(np.std(r, ddof=1))\n",
        "    if j == 0:\n",
        "        sigma_i_n = np.cov(r, returns1[120:])[0, 1]\n",
        "    else:\n",
        "        sigma_i_n = np.cov(r, returns2.iloc[120:, j-1])[0, 1]\n",
        "    sigma_i_ns.append(sigma_i_n)\n",
        "    sr.append(np.mean(r)/np.std(r, ddof=1))\n",
        "    ceq.append(np.mean(r) - (gamma/2)*np.std(r)**2)\n",
        "\n",
        "    CEQ_diff = np.mean(r) - (gamma/2)*np.std(r, ddof=1)**2 - CEQ.loc['1/N In', f'df{j+1}']\n",
        "    grad = np.array([1, -1, -gamma/2, gamma/2])\n",
        "    theta = np.array([[np.std(r, ddof=1)**2, sigma_i_n, 0, 0], [sigma_i_n, ew_std[j]**2, 0, 0], [0, 0, 2*np.std(r, ddof=1)**4, 2*sigma_i_n**2], [0, 0, 2*sigma_i_n**2, 2*ew_std[j]**4]])\n",
        "    CEQ_z.append(np.sqrt(len(df))*CEQ_diff/np.sqrt(grad.T @ theta @ grad))\n",
        "\n",
        "    weights = np.array(weights)\n",
        "    weights_before = weights*(df.iloc[M:]+1)\n",
        "    weights_before = weights*(df.iloc[M:]+1)\n",
        "    weights_before = weights_before.div(np.abs(weights_before.sum(axis=1)), axis=0)\n",
        "    turnovers.append((weights_before-weights).abs().sum().sum()/(len(r)))\n",
        "\n",
        "sharpes.loc['ew-min Out'] = sr\n",
        "mus, sigmas, sigma_i_ns = np.array(mus), np.array(sigmas), np.array(sigma_i_ns)\n",
        "nu = (1/len_r)*(2*sigmas**2*ew_std**2 - 2*sigmas*ew_std*sigma_i_ns + 0.5*mus**2*ew_std**2 + \\\n",
        "                    0.5*ew_mean**2*sigmas**2 - mus*ew_mean*sigma_i_ns**2/(ew_std*sigmas))\n",
        "z_scores = (ew_std*mus-sigmas*ew_mean)/np.sqrt(nu)\n",
        "sharpes_p.loc['ew-min Out'] = 1-norm.cdf(z_scores)\n",
        "\n",
        "CEQ.loc['ew-min Out'] = ceq\n",
        "CEQ_p.loc['ew-min Out'] = 1-norm.cdf(CEQ_z)\n",
        "\n",
        "turnover.loc['ew-min Out'] = np.array(turnovers)"
      ],
      "metadata": {
        "id": "GeR-frPBVsmq"
      },
      "execution_count": null,
      "outputs": []
    },
    {
      "cell_type": "code",
      "source": [
        "print(round(sharpes, 4))\n",
        "print(round(sharpes_p, 4))\n",
        "print(round(CEQ, 4))\n",
        "print(round(CEQ_p, 4))\n",
        "print(round(turnover, 4))\n",
        "rel_turnover = turnover.div(turnover.iloc[0, :], axis=1)\n",
        "print(round(rel_turnover, 4))"
      ],
      "metadata": {
        "colab": {
          "base_uri": "https://localhost:8080/"
        },
        "id": "N7xTcfYMVdNF",
        "outputId": "a5988c98-fbf7-4a18-954f-4333de26a566"
      },
      "execution_count": null,
      "outputs": [
        {
          "output_type": "stream",
          "name": "stdout",
          "text": [
            "                df1     df2     df3     df4     df5\n",
            "1/N In       0.1525  0.1251  0.2085  0.1428  0.1475\n",
            "mv In        0.3248  0.2097  0.2589  0.4518  0.4578\n",
            "mv Out       0.0643 -0.0512  0.2096 -0.0479  0.1980\n",
            "min Out      0.0961  0.1588  0.2556  0.2532  0.0349\n",
            "bs           0.0704  0.0530  0.2506  0.0531 -0.1042\n",
            "vw           0.1138  0.1053  0.1053  0.1053  0.1053\n",
            "mv-c Out     0.1653  0.0965  0.2345  0.2053  0.2589\n",
            "min-c Out    0.1236  0.1632  0.2169  0.1704  0.2551\n",
            "g-min-c Out  0.1597  0.1515  0.2224  0.1667  0.2360\n",
            "ew-min Out   0.0411  0.0284  0.0401  0.1170  0.0989\n",
            "                df1     df2     df3     df4     df5\n",
            "1/N In          NaN     NaN     NaN     NaN     NaN\n",
            "mv Out       0.9141  0.9914  0.6791  0.9983  0.3354\n",
            "min Out      0.9280  0.2853  0.2640  0.0265  0.9725\n",
            "bs           0.9272  0.8962  0.3444  0.9285  0.9999\n",
            "vw           1.0000  0.9648  0.9998  0.9935  0.9953\n",
            "mv-c Out     0.6912  0.8976  0.4972  0.0044  0.0390\n",
            "min-c Out    0.9543  0.1541  0.7833  0.2911  0.0435\n",
            "g-min-c Out  0.8533  0.1734  0.7235  0.2800  0.0041\n",
            "ew-min Out   0.9733  0.9667  0.9972  0.7170  0.9913\n",
            "                df1     df2     df3       df4     df5\n",
            "1/N In       0.0057  0.0044  0.0038    0.0062  0.0061\n",
            "mv In        0.0176  0.0101  0.0041    0.0249  0.0146\n",
            "mv Out       0.0016 -2.3682  0.0042 -165.5758  0.0181\n",
            "min Out      0.0028  0.0052  0.0040    0.0090  0.0001\n",
            "bs           0.0025 -1.1470  0.0042  -42.0027 -0.0388\n",
            "vw           0.0042  0.0037  0.0037    0.0037  0.0037\n",
            "mv-c Out     0.0062  0.0036  0.0041    0.0092  0.0052\n",
            "min-c Out    0.0038  0.0054  0.0038    0.0069  0.0042\n",
            "g-min-c Out  0.0053  0.0051  0.0038    0.0071  0.0058\n",
            "ew-min Out  -0.0087 -0.0030  0.0004    0.0051  0.0027\n",
            "                df1     df2     df3     df4     df5\n",
            "1/N In          NaN     NaN     NaN     NaN     NaN\n",
            "mv Out       0.7819  1.0000  0.3182  1.0000  0.1517\n",
            "min Out      0.9496  0.2876  0.3111  0.0853  0.9963\n",
            "bs           0.8363  1.0000  0.2410  1.0000  1.0000\n",
            "vw           1.0000  0.8450  0.5148  0.9915  0.9914\n",
            "mv-c Out     0.3612  0.7200  0.3215  0.0000  0.6713\n",
            "min-c Out    0.9548  0.1540  0.5143  0.2158  0.8304\n",
            "g-min-c Out  0.7184  0.1310  0.4162  0.0264  0.5927\n",
            "ew-min Out   0.9293  0.9429  0.8591  0.5528  0.7264\n",
            "                df1      df2     df3       df4      df5\n",
            "1/N In       0.0311   0.0222  0.0238    0.0165   0.0188\n",
            "mv Out       0.7830  88.3411  0.0241  189.3129  12.1744\n",
            "min Out      0.0707   0.1531  0.0220    0.2893   0.0904\n",
            "bs           0.3141  58.9435  0.0219   78.9655  50.2204\n",
            "vw           0.0000   0.0000  0.0000    0.0000   0.0000\n",
            "mv-c Out     0.0258   0.0167  0.0197    0.0073   0.0222\n",
            "min-c Out    0.0277   0.0197  0.0226    0.0109   0.0220\n",
            "g-min-c Out  0.0299   0.0228  0.0228    0.0147   0.0283\n",
            "ew-min Out   3.5106   1.5293  0.1360    5.7333   1.6804\n",
            "                  df1        df2     df3         df4        df5\n",
            "1/N In         1.0000     1.0000  1.0000      1.0000     1.0000\n",
            "mv Out        25.2108  3987.0870  1.0108  11471.1935   648.0970\n",
            "min Out        2.2773     6.9104  0.9229     17.5321     4.8125\n",
            "bs            10.1132  2660.2901  0.9197   4784.8193  2673.4524\n",
            "vw             0.0000     0.0000  0.0000      0.0000     0.0000\n",
            "mv-c Out       0.8316     0.7544  0.8263      0.4413     1.1794\n",
            "min-c Out      0.8930     0.8898  0.9466      0.6616     1.1692\n",
            "g-min-c Out    0.9632     1.0274  0.9546      0.8893     1.5057\n",
            "ew-min Out   113.0363    69.0205  5.7070    347.4025    89.4525\n"
          ]
        }
      ]
    },
    {
      "cell_type": "code",
      "source": [
        "S_mv1 = 0.32\n",
        "S_ew1 = 0.15\n",
        "Ns = np.arange(10, 101, 10)\n",
        "M1s = [N/(S_mv1**2 - S_ew1**2) for N in Ns]\n",
        "M2s, M3s = [], []\n",
        "\n",
        "def objective2(x, N, S_ew, S_mv):\n",
        "    return (x/(x-N-2))*(2-(x*(x-2))/((x-N-1)*(x-N-4))) - (S_ew/S_mv)**2\n",
        "def objective3(x, N, S_ew, S_mv):\n",
        "    k = (x/(x-N-2))*(2-(x*(x-2))/((x-N-1)*(x-N-4)))\n",
        "    h = N*x*(x-2)/((x-N-1)*(x-N-2)*(x-N-4))\n",
        "    return k*S_mv**2 - S_ew**2 - h\n",
        "\n",
        "for N in Ns:\n",
        "    result2 = fsolve(objective2, 200, args=(N, S_ew1, S_mv1))\n",
        "    M2s.append(result2[0])\n",
        "    result3 = fsolve(objective3, 200, args=(N, S_ew1, S_mv1))\n",
        "    M3s.append(result3[0])\n",
        "\n",
        "plt.plot(Ns, M1s, c='k', linestyle='-', label='$\\mu$ unknown, $\\Sigma$ known')\n",
        "plt.plot(Ns, M2s, c='k', linestyle='-.', label='$\\mu$ known, $\\Sigma$ unknown')\n",
        "plt.plot(Ns, M3s, c='k', linestyle=':', label='$\\mu$ unknown, $\\Sigma$ unknown')\n",
        "plt.legend()\n",
        "plt.title('$S_* = $' + str(S_mv) + ', $S_{1/N} =$ ' + str(S_ew))\n",
        "plt.ylabel('Number of Months M')\n",
        "plt.xlabel('Number of Assets N')\n",
        "plt.savefig('WindowLength1.eps', format='eps')\n",
        "plt.close()\n",
        "\n",
        "\n",
        "S_mv2 = 0.45\n",
        "S_ew2 = 0.15\n",
        "M4s = [N/(S_mv2**2 - S_ew2**2) for N in Ns]\n",
        "M5s, M6s = [], []\n",
        "for N in Ns:\n",
        "    result5 = fsolve(objective2, 200, args=(N, S_ew2, S_mv2))\n",
        "    M5s.append(result5[0])\n",
        "    result6 = fsolve(objective3, 200, args=(N, S_ew2, S_mv2))\n",
        "    M6s.append(result6[0])\n",
        "\n",
        "plt.plot(Ns, M4s, c='k', linestyle='-', label='$\\mu$ unknown, $\\Sigma$ known')\n",
        "plt.plot(Ns, M5s, c='k', linestyle='-.', label='$\\mu$ known, $\\Sigma$ unknown')\n",
        "plt.plot(Ns, M6s, c='k', linestyle=':', label='$\\mu$ unknown, $\\Sigma$ unknown')\n",
        "plt.legend()\n",
        "plt.title('$S_* = $' + str(S_mv) + ', $S_{1/N} =$ ' + str(S_ew))\n",
        "plt.ylabel('Number of Months M')\n",
        "plt.xlabel('Number of Assets N')\n",
        "plt.savefig('WindowLength2.eps', format='eps')\n",
        "plt.close()\n",
        "\n",
        "fig, axs = plt.subplots(nrows=1, ncols=2, figsize=(14, 6))\n",
        "\n",
        "axs[0].plot(Ns, M1s, c='k', linestyle='-', label='$\\mu$ unknown, $\\Sigma$ known')\n",
        "axs[0].plot(Ns, M2s, c='k', linestyle='-.', label='$\\mu$ known, $\\Sigma$ unknown')\n",
        "axs[0].plot(Ns, M3s, c='k', linestyle=':', label='$\\mu$ unknown, $\\Sigma$ unknown')\n",
        "axs[0].legend()\n",
        "axs[0].set_title('$S_* = $' + str(S_mv1) + ', $S_{1/N} =$ ' + str(S_ew1))\n",
        "axs[0].set_ylabel('Number of Months M')\n",
        "axs[0].set_xlabel('Number of Assets N')\n",
        "axs[1].plot(Ns, M4s, c='k', linestyle='-', label='$\\mu$ unknown, $\\Sigma$ known')\n",
        "axs[1].plot(Ns, M5s, c='k', linestyle='-.', label='$\\mu$ known, $\\Sigma$ unknown')\n",
        "axs[1].plot(Ns, M6s, c='k', linestyle=':', label='$\\mu$ unknown, $\\Sigma$ unknown')\n",
        "axs[1].legend()\n",
        "axs[1].set_title('$S_* = $' + str(S_mv2) + ', $S_{1/N} =$ ' + str(S_ew2))\n",
        "axs[1].set_ylabel('Number of Months M')\n",
        "axs[1].set_xlabel('Number of Assets N');"
      ],
      "metadata": {
        "id": "yIrruCDM3slL",
        "colab": {
          "base_uri": "https://localhost:8080/",
          "height": 617
        },
        "outputId": "d8a4543e-e666-469e-8669-17e3ef80aaa7"
      },
      "execution_count": null,
      "outputs": [
        {
          "output_type": "stream",
          "name": "stderr",
          "text": [
            "WARNING:matplotlib.backends.backend_ps:The PostScript backend does not support transparency; partially transparent artists will be rendered opaque.\n",
            "WARNING:matplotlib.backends.backend_ps:The PostScript backend does not support transparency; partially transparent artists will be rendered opaque.\n"
          ]
        },
        {
          "output_type": "execute_result",
          "data": {
            "text/plain": [
              "Text(0.5, 0, 'Number of Assets N')"
            ]
          },
          "metadata": {},
          "execution_count": 52
        },
        {
          "output_type": "display_data",
          "data": {
            "text/plain": [
              "<Figure size 1400x600 with 2 Axes>"
            ],
            "image/png": "[encoded data removed]"
          },
          "metadata": {}
        }
      ]
    },
    {
      "cell_type": "code",
      "source": [],
      "metadata": {
        "id": "MyXNtsJd0mAg"
      },
      "execution_count": null,
      "outputs": []
    }
  ]
}